{
 "cells": [
  {
   "cell_type": "markdown",
   "metadata": {},
   "source": [
    "# (S.17) Permutation and Combination"
   ]
  },
  {
   "cell_type": "markdown",
   "metadata": {},
   "source": [
    "## Sets\n",
    "\n",
    "1. **Set**: *a well-defined colletion of objects*.\n",
    "    - **Math notation:**\n",
    "        - Define a set as $S$ \n",
    "        - If $x$ is an element of set $S$:\n",
    "            - $x \\in S$.\n",
    "        - If $x$ is not an element of set $S$:\n",
    "            - $x\\notin S$.\n",
    "        \n",
    "2. **Subset**: set $T$ is a subset of set $S$ if *every element* in set $T$ is also in set $S$. \n",
    "\n",
    "    - **Math Notation**\n",
    "        - $T$ is a subset of $S$.   \n",
    "            - $T \\subset S$\n",
    "\n",
    "        - $T$ and $S$ can be the SAME population \n",
    "        - If $T$ != $S$, but $T \\subset S$, called a 'proper subset'\n",
    "            - Can use notation:  $T \\subsetneq S$ and $T \\subseteq S$ \n",
    "\n",
    "3. **Universal Set**: The collection of all possible outcomes in a certain context or universe.\n",
    "\n",
    "    - **Math Notation**\n",
    "        - Universal set denoted by Omega ($\\Omega$)\n",
    "        - Can have infinite # of elements (e.g. the set of all real numbers!)\n",
    "        - Example: all possible outcomes of a 6-sided die:\n",
    "            - $\\Omega = \\{1,2,3,4,5,6\\}$"
   ]
  },
  {
   "cell_type": "markdown",
   "metadata": {},
   "source": [
    "4. **Set Operations**\n",
    "    1. **Union** $S \\cup T$\n",
    "        - all unique elements found in both sets\n",
    "    2. **Intersection** $S \\cap T$.\n",
    "        - All elements of $S$ that also belong to $T$. \n",
    "    3.  **Relative complement / difference** \n",
    "        - all the elements of T that are NOT in S.\n",
    "            - relative complement of S (or $ T\\backslash S $) is $\\{2,4,8\\}$.\n",
    "            - relative complement  of T (or $ S\\backslash T $) is $\\{3,9,12\\}$.\n",
    "    4. **Absolute complement**\n",
    "        - The absolute complement of $S$, with respect to the Universal set $\\Omega$, is the collection of the objects in $\\Omega$ that don't belong to $S$.\n",
    "        - Denoted as $S'$ or $S^c$.\n",
    "        \n",
    "    5. <u> NOTE:</u>Inclusion Exclusion principle\n",
    "        - When combining  2 sets, the method for obtaining the union of two finite sets is given by:\n",
    "\n",
    "            - $\\mid S \\cup T \\mid = \\mid S \\mid + \\mid T \\mid - \\mid S \\cap T \\mid $"
   ]
  },
  {
   "cell_type": "markdown",
   "metadata": {},
   "source": [
    " ## Probability\n",
    " 1. **Law of relative frequency**\n",
    "    - Limit of large infinite outcomes produce fixed numbers .\n",
    "        - $$P(E) = \\lim_{n\\to\\infty}\\frac{S(n)}{n}$$\n",
    "    - Probability of Event E having Successful(S) outcomes for $n$ trials\n",
    "    - a given outcome is successful if it is in the event space \n",
    " 2. **Sample Space:**\n",
    "     - All possible outcomes for a given experiment. \n",
    " 3. **Event space:**\n",
    "     - Those outcomes in the sample space that satisfy some critera\n",
    "         - Always a subset of S\n",
    " 4. Probability Axioms\n",
    " \n",
    "    1.  Positivity : Prob is always $0 <= P(E) <=1$\n",
    "\n",
    "    2.  Probability of a certain event: $P(S)=1$\n",
    "\n",
    "    3.  Additivity Union of 2 exclusive sets = sum prob of individual events\n",
    "        happening <br>\n",
    "        - If $A\\cap B = \\emptyset $, then $P(A\\cup B) = P(A) + P(B)$\n",
    "    4. Addition Law:\n",
    "        - Prob of union of A and B is individual P minus intersection\n",
    "$$P(A\\cup B) = P(A) + P(B) - P(A \\cap B)$$\n"
   ]
  },
  {
   "cell_type": "markdown",
   "metadata": {},
   "source": [
    "## Permutations\n",
    "\n",
    "### Permutations of a subset\n",
    "\n",
    "How many ways can we select k elements out of a pool of n objects?\n",
    "- $k$-permutation of $n$:\n",
    "\n",
    "$n*(n-1)*...*(n-k+1)$ or in other words, $P_{k}^{n}= \\dfrac{n!}{(n-k)!}$\n",
    "\n",
    "### Permutations with replacement \n",
    "\n",
    "\\# of possible options doesn’t change, so n is raised to the power of j, the number of draws from the pop<br><br>\n",
    "$n^j$\n",
    "\n",
    "### Permutations with repetition ...?\n",
    "\n",
    "The \\# of permutations of *n* objects with identical objects of type 1<br>\n",
    "$(n_1^{j_1}* n_2^{j_2})$"
   ]
  },
  {
   "cell_type": "markdown",
   "metadata": {},
   "source": [
    "## Combinations\n",
    "- How many ways can we create a subset $k$ out of $n$ objects? \n",
    "    - Unordered\n",
    "$$\\displaystyle\\binom{n}{k} = \\dfrac{P_{k}^{n}}{k!}=\\dfrac{ \\dfrac{n!}{(n-k)!}}{k!} = \\dfrac{n!}{(n-k)!k!}$$"
   ]
  },
  {
   "cell_type": "markdown",
   "metadata": {},
   "source": [
    "## "
   ]
  },
  {
   "cell_type": "markdown",
   "metadata": {},
   "source": [
    "# (S.19)  Central Limit Theorem"
   ]
  },
  {
   "cell_type": "markdown",
   "metadata": {},
   "source": [
    "## Central Limit Theorem\n",
    "\n",
    "The averages of samples will form a normal distribution,\n",
    "Even if population from which samples are drawn is not normal"
   ]
  },
  {
   "cell_type": "code",
   "execution_count": null,
   "metadata": {},
   "outputs": [],
   "source": [
    "sns.distplot(data); # Draws a histogram and KDE"
   ]
  },
  {
   "cell_type": "code",
   "execution_count": null,
   "metadata": {},
   "outputs": [],
   "source": [
    "scipy.stats.normaltest(data): # Tests if data is normal"
   ]
  },
  {
   "cell_type": "code",
   "execution_count": null,
   "metadata": {},
   "outputs": [],
   "source": [
    "# Generate a normal distribution with mean, sd given\n",
    "male_height = scipy.stats.norm(mean, sd)\n",
    "# The result male_height is a SciPy rv object which represents a normal continuous random variable."
   ]
  },
  {
   "cell_type": "markdown",
   "metadata": {},
   "source": [
    "<strong> Create numpy arrays of data points that have a distribution of a given rv object</strong>"
   ]
  },
  {
   "cell_type": "code",
   "execution_count": null,
   "metadata": {},
   "outputs": [],
   "source": [
    "mean = rv.mean()\n",
    "std = rv.std()"
   ]
  },
  {
   "cell_type": "code",
   "execution_count": null,
   "metadata": {},
   "outputs": [],
   "source": [
    "# Use numpy to calculate evenly spaced numbers over the specified interval (4 sd) and generate 100 samples.\n",
    "xs = np.linspace(mean - x*std, mean + x*std, 100)"
   ]
  },
  {
   "cell_type": "code",
   "execution_count": null,
   "metadata": {},
   "outputs": [],
   "source": [
    "# Calculate the peak of normal distribution i.e. probability density. \n",
    "ys = rv.pdf(xs)"
   ]
  },
  {
   "cell_type": "code",
   "execution_count": null,
   "metadata": {},
   "outputs": [],
   "source": [
    "# use stats.t.pdf to get values on the probability density function for the t-distribution\n",
    "# the second argument is the degrees of freedom\n",
    "ys = stats.t.pdf(xs, df, 0, 1)"
   ]
  },
  {
   "cell_type": "markdown",
   "metadata": {},
   "source": [
    "## Sampling Statistics\n",
    "\n",
    "<ol>\n",
    "\n",
    "<li><b>Sample Distribution:</b></li>  \n",
    "\n",
    ">The distribution of the data points within a single sample.\n",
    "\n",
    "<li><b>Sampl<i><u>ing</u></i> Distribution:</b></li>\n",
    "    \n",
    ">The probability distribution a statistic (for example, the mean of samples) can take\n",
    "\n",
    "<li><b>Sample distribution of the Sample mean: :</b></li>\n",
    "\n",
    ">A distributions of the means of many samples drawn from the population. This forms a normal distribution. \n",
    "\n",
    "<li><b>Sampling Error:</b></li>\n",
    "    \n",
    "> The difference between the sample mean and the population mean.<br><ul><li>This decreases as sample size increases</ul></li>\n",
    "\n",
    "\n",
    "<li><b>Standard error of the sample mean</b></li>  \n",
    "> The std-deviations of the sampling distribution. It is given by\n",
    "\n",
    " > $$ \\sigma_{\\bar{x}} = \\frac{\\sigma}{\\sqrt{n}} \\approx \\frac{s}{\\sqrt{n}}$$\n",
    "\n",
    "</ol>"
   ]
  },
  {
   "cell_type": "markdown",
   "metadata": {},
   "source": [
    "## Confidence Interval"
   ]
  },
  {
   "cell_type": "markdown",
   "metadata": {},
   "source": [
    "1. <b>Definition</b>\n",
    "    - A range of values\n",
    "    - above and below the point estimate\n",
    "    - that captures the true population parameter\n",
    "    - at some predetermined confidence level.\n",
    "    <br><br>\n",
    "We calculate a confidence interval by taking a point estimate and then adding and subtracting a margin of error to create a range <br><br>\n",
    "    \n",
    "2. <b> Margin of Error</b><br><br>\n",
    "    \n",
    "    1. <u><font size=\"+2\">Pop (σ)  </font><b>is known</b></u>:<br>\n",
    "        - use <b> z critical value </b><br><br>\n",
    "            - Definitoin of z - critical value:\n",
    "                - The number of standard deviations you'd have to go \n",
    "                - from the mean of the normal distribution \n",
    "                - to capture the proportion of the data \n",
    "                - associated with the desired confidence level\n",
    "                    - For instance, we know that roughly 95% of the data in a normal distribution lies within 2 standard deviations of the mean, so we could use 2 as the z-critical value for a 95% confidence interval as shown in this image<br><br>\n",
    "            - get z-critical values with:<br><br>\n",
    "                - <mark>stats.norm.ppf(q, loc=0, scale=1)</mark> q = percentile point i.e. 0.95\n",
    "                     - Note that we use stats.norm.ppf(q = 0.975) to get the desired z-critical value instead of q = 0.95 because the distribution has two tails.<br><br>\n",
    "        - <font size=\"+2\">MoE = z ∗ σ / √n</font><br><br>\n",
    "            - <font size=\"+1\">σ (sigma)</font> is the population standard deviation\n",
    "            - <u>n</u> is sample size\n",
    "            - <u>z</u> is the z-critical value\n",
    "<br><br>\n",
    "    2. <u><font size=\"+2\">Pop (σ)  </font><b>is <u>NOT</u> known</b></u>:<br>\n",
    "        - use a <b> t-critical </b> value\n",
    "            - This is found on a <b>t-distribution</b>, which is like a normal distribution but with heavier tails\n",
    "            - The shape of a t-distribution is determined by a parameter known as <b>degrees of freedom</b>. \n",
    "                - This is esentially the size of the sample\n",
    "                - the higher the dof (i.e. the larger the sample <br> the closer the t-distribution is to a normal distribution <br><br>\n",
    "                \n",
    "        - <font><b>MoE</b> =  $\\bar{x}\\pm t_{\\alpha/2,n-1}\\left(\\dfrac{S}{\\sqrt{n}}\\right)$</font><br><br>\n",
    "            - $\\bar{x}$  is the sample mean\n",
    "            - $t_{\\alpha/2,n-1}$ is the <b> t - critical value</b><br><br>\n",
    "            - $\\dfrac{S}{\\sqrt{n}}$ is the \"standard error of the mean\"\n",
    "            - <u>n</u> is sample size\n",
    "            - <u>$\\alpha$</u> is the confidence interval <br><br>\n",
    "            \n",
    "        - <b>Finding interval with scipy</b>     \n",
    "               \n",
    " "
   ]
  },
  {
   "cell_type": "code",
   "execution_count": null,
   "metadata": {},
   "outputs": [],
   "source": [
    "#Min and Max of Confidence Interval\n",
    "stats.t.interval(alpha = 0.95,                              # Confidence level\n",
    "                 df= len(sample_chol_levels)-1,             # Degrees of freedom\n",
    "                 loc = x_bar,                               # Sample mean\n",
    "                 scale = s)    "
   ]
  },
  {
   "cell_type": "markdown",
   "metadata": {},
   "source": [
    "                - returns tuple of lower and upper bound of MoE calculated using t-distribution"
   ]
  },
  {
   "cell_type": "markdown",
   "metadata": {},
   "source": [
    "4. <b> Poisson Dist Code</b>\n",
    "    * The Poisson distribution is the discrete probability distribution of the number of events occurring in a given time period, given the average number of times the event occurs over that time period. We shall use a Poisson distribution to construct a bimodal distribution."
   ]
  },
  {
   "cell_type": "code",
   "execution_count": null,
   "metadata": {},
   "outputs": [],
   "source": [
    "pop_ages =stats.poisson.rvs(loc=18, mu=35, size=150000)"
   ]
  },
  {
   "cell_type": "markdown",
   "metadata": {},
   "source": [
    "<b>QUESTION</b>: \n",
    "\n",
    "1. Can you explain the difference between interpretations more? why cant you say 95% probability <br>\n",
    "2. T-dist: where is this confidence itnerval equation coming from ? $\\dfrac{\\bar{X}-\\mu}{\\sigma/\\sqrt{n}}\\sim N(0,1)$\n",
    "3. what exactly is t_{\\alpha/2,n-1}? is this the t-critical values for two tails? this is what we get from the t-distribution? is this similar to z-critical values? i.e number of deviations from mean on t dist we have to go to?"
   ]
  },
  {
   "cell_type": "markdown",
   "metadata": {},
   "source": [
    "# (s.20) Hypothesis Testing"
   ]
  },
  {
   "cell_type": "markdown",
   "metadata": {},
   "source": [
    "## p-vals and null hypothesis"
   ]
  },
  {
   "cell_type": "markdown",
   "metadata": {},
   "source": [
    "1. <b>Null Hypothesis</b>:\n",
    "    - There is no relationship between A and B<br><br>\n",
    "2. <b> Alternative Hypothesis</b>\n",
    "    - The hypothesis traditionally thought of when creating a hypothesis for an experiment  I.E. some effect has occured<br><br>\n",
    "3. **_p-value_**: \n",
    "    - The probability of observing a test statistic at least as large as the one observed, by random chance, assuming that the null hypothesis is true.<br><br>\n",
    "\n",
    "4. $\\alpha$ **_(alpha value)_**: \n",
    "    - The marginal threshold at which you're okay with rejecting the null hypothesis.<br><br>\n",
    "    - <b>If $p < \\alpha$, then you reject the null hypothesis</b> <br><br>"
   ]
  },
  {
   "cell_type": "code",
   "execution_count": null,
   "metadata": {},
   "outputs": [],
   "source": []
  },
  {
   "cell_type": "markdown",
   "metadata": {},
   "source": [
    "## Effect Size\n",
    "\n",
    "<b> Effect Size </b>is used to quantify the size of the difference between two groups under observation <br><br>\n",
    "There are a few ways of making this comparison\n",
    "\n",
    "1. <b><u> Un-standardized or Simple Effect</u></b>\n",
    "\n",
    "    - Look at the **[ difference in means ]** between the two populations\n",
    "        - <b>CAVEATS</b>:\n",
    "            - Without knowing more about the distributions (like the standard deviations or spread of each distribution), it's hard to interpret whether a difference like 15 cm is a big difference or not.\n",
    "            - The magnitude of the difference depends on the units of measure, making it hard to compare across different studies that may be conducted with different units of measurement.\n",
    "            \n",
    "    - There are a number of ways to quantify the difference between distributions. \n",
    "        - A simple option is to express the difference as a percentage of the mean.\n",
    "            - But a problem with relative differences is that you have to choose which mean to express them relative to\n",
    "                - Express as % of pop A or pop B?\n",
    "                \n",
    "                \n",
    "2. <b><u> Overlap Threshold </u></b>\n",
    "    - Choose a threshold between the two means. \n",
    "        - The simple threshold is the midpoint between the means f\n",
    "    - How many members of pop b are below threshold? = <b> b_below </b>\n",
    "    - How many of pop A are above threshold? = <b> a_above </b>\n",
    "    - Calculate overlap (Area under both curves)\n",
    "        - <b> b_below/len(b)   +  a_above/len(a) </b>\n",
    "        - divide by 2 to report fraction of misclassified data points\n",
    "        \n",
    "<br>\n",
    "3. <b><u> Probability of superiority </u></b><br><br>\n",
    "   probability that *\"a randomly-chosen B is greater than a randomly-chosen A\"\n",
    "   \n",
    "   - sum(x > y for x, y in zip(b_sample, a_sample)) / len(b_sample)\n",
    "\n"
   ]
  },
  {
   "cell_type": "markdown",
   "metadata": {},
   "source": [
    "4. <b><u> Standardized effect size </u></b><br>\n",
    "An effect size statistic that divide effect size by some standardizer i.e. standard deviation:<br>\n",
    "    <b>Effect Size / Standardiser</b><br><br>\n",
    "\n",
    "    1. <b>Cohen's D</b> <br>\n",
    "    One type of standardized effect size statistic.<br>\n",
    "    \n",
    "        -   <u>Formula:</u><br>**$d$ = effect size (difference of means) / pooled standard deviation** <br>\n",
    "            - <b>Pooled standard deviation</b>: Weighted average of the standard deviations of the two groups\n",
    "                -  ( (group1.var * len(group1) + (group2.var * len(group2) )  /  (len(group1) + len(group2)  )\n",
    "                    - This is the variance. Take sqroot to get the pooled std\n",
    "        - <b>Interpretation</b>:<br>\n",
    "        We use these rules of thumb to assess meaning of magnitude of d\n",
    "            - Small effect = 0.2\n",
    "            - Medium Effect = 0.5\n",
    "            - Large Effect = 0.8     \n",
    "\n",
    "\n"
   ]
  },
  {
   "cell_type": "markdown",
   "metadata": {},
   "source": [
    "## T-tests\n",
    "\n",
    "Just as you can use t distribution to provide confidence intervals for estimating the population mean you can also use it to test whether two populations are different, statistically speaking.\n",
    "\n",
    "Use at-test if:\n",
    "    - Don’t know the population standard deviation \n",
    "    - You have a small sample size\n",
    "\n",
    "\n",
    "\n",
    "1. <b><u> One Sample T-Test</b></u><br>\n",
    "    Used to determine whether<br>\n",
    "    a sample of observations could have been generated<br> \n",
    "    by a process with a specific mean\n",
    "    - For example, you might want to know how your sample mean compares to the population mean\n",
    "        - Does the sample come from the population?(QUESTION)\n",
    "        \n",
    "    - <b>Formula</b> to find t-value of sample \n",
    "    $$t = \\frac{\\bar{x}-\\mu}{\\frac{s}{\\sqrt{n}}}$$\n",
    "    \n",
    "    - To find <b>t - critical value</b>\n",
    "        - scipy.stats.t.ppf(1-alpha, df)\n",
    "            - df is degrees of freedom i.e length of sample\n",
    "    - <u>stats method for conducitng one sample ttest</u>\n",
    "        - scipy.stats.ttest_1samp(a, popmean, axis=0, nan_policy='propagate')\n",
    "            - a = sample mean\n",
    "            -  This function returns the t-value and p-value for the sample\n",
    "    - if t-val is greater than t- crit,\n",
    "        - null hypothesis that sample mean is same as pop mean can be rejected\n",
    "        \n",
    "        \n",
    "\n",
    "2. <b><u> Two Sample T-Test</b></u><br>\n",
    "    used to determine if two population means are equal<br>\n",
    "    Two main types:\n",
    "    - <u>Paired test</u><br>\n",
    "    the individual items/people in the sample will remain the same and researchers are comparing how they change after treatment\n",
    "    - <u>Unpaired(Independant) test</u>\n",
    "    comparing two different, unrelated samples to one another.\n",
    "       \n",
    "        - <mark>stats.ttest_ind(experimental, control)</mark>\n",
    "            - Calculates the t-test for the means of *two independent* samples of scores.\n",
    "\n",
    "            This is a two-sided test for the null hypothesis that 2 independent samples\n",
    "            have identical average (expected) values. \n",
    "            - returns t statistic and pvalue\n",
    "        - Assumes that the populations the samples have been drawn from have the same variance\n",
    "            '''\n",
    "\n",
    "    <br><br>\n",
    "    - <b> Formulas </b><br>\n",
    "        t statistic:\n",
    "         $$\\large t = \\frac{\\bar{x}_{1} - \\bar{x}_{2}}{\\sqrt{s^{2}_{p} (\\frac{1}{n_{1}} + \\frac{1}{n_{2}}) }    }  $$ <br>\n",
    "            \n",
    "         Where $s^{2}_{p}$ is the pooled sample variance, calculated as:\n",
    "\n",
    "       $$\\large s^{2}_{p}  = \\frac{(n_{1} -1)s^{2}_{1} +  (n_{2} -1)s^{2}_{2}}{n_{1} + n_{2} - 2}  $$\n",
    "\n",
    "        Where $s^{2}_{1}$ and $s^{2}_{2}$ are the variances for each sample given by the formula \n",
    "        $$ \\large s^{2} = \\frac{\\sum_{i=1}^{n}(x_{i} - \\bar{x})^{2}}{n-1} $$\n",
    "        \n",
    "    \n",
    "            \n",
    "\n",
    "<br>\n",
    "3. <b><u>Assumptions</b></u>\n",
    "\n",
    "- sample observations have numeric and continuous values\n",
    "- sample observations are independent from each other\n",
    "- the samples have been drawn from normal distributions\n",
    "- if upaired two sample test:\n",
    "    - the populations the samples have been drawn from have the same variance\n",
    "- if paired two-sample test:\n",
    "    - the difference between the two sets of samples are normally distributed."
   ]
  },
  {
   "cell_type": "markdown",
   "metadata": {},
   "source": [
    "## Type 1 and Type 2 Errors"
   ]
  },
  {
   "cell_type": "markdown",
   "metadata": {},
   "source": [
    "1. <b><u>Type I error:</u></b>\n",
    "    - rejecting a null hypothesis when it should not have been rejected.\n",
    "        - The confidence level is also the probability that you reject the null hypothesis when it is actually true.\n",
    "    - commonly known as a <b><u>False Positive</u></bb>\n",
    "        \n",
    "2. <b><u>Type II error:</u></b>\n",
    "    \n",
    "    - the probability that you fail to reject the null hypothesis when it is actually false\n",
    "        - aka <u>**False Negatives**</u> or $\\beta$\n",
    "    - related to something called Power_,\n",
    "        - Power = the probability of rejecting the null hypothesis given that it actually is false. \n",
    "            - Power_ = 1 - $\\beta$\n",
    "        \n",
    "        \n",
    "        \n",
    "    \n",
    "    "
   ]
  },
  {
   "cell_type": "markdown",
   "metadata": {},
   "source": [
    "<img src=\"./images/Type1Type2Chart.png\">"
   ]
  },
  {
   "cell_type": "markdown",
   "metadata": {},
   "source": [
    "  ## Type I and Type II errors"
   ]
  },
  {
   "cell_type": "code",
   "execution_count": null,
   "metadata": {},
   "outputs": [],
   "source": []
  }
 ],
 "metadata": {
  "kernelspec": {
   "display_name": "Python 3",
   "language": "python",
   "name": "python3"
  },
  "language_info": {
   "codemirror_mode": {
    "name": "ipython",
    "version": 3
   },
   "file_extension": ".py",
   "mimetype": "text/x-python",
   "name": "python",
   "nbconvert_exporter": "python",
   "pygments_lexer": "ipython3",
   "version": "3.7.5"
  },
  "toc": {
   "base_numbering": 1,
   "nav_menu": {
    "height": "225px",
    "width": "228px"
   },
   "number_sections": true,
   "sideBar": false,
   "skip_h1_title": false,
   "title_cell": "Table of Contents",
   "title_sidebar": "Contents",
   "toc_cell": false,
   "toc_position": {
    "height": "1597px",
    "left": "343px",
    "top": "231px",
    "width": "216px"
   },
   "toc_section_display": false,
   "toc_window_display": false
  },
  "varInspector": {
   "cols": {
    "lenName": 16,
    "lenType": 16,
    "lenVar": 40
   },
   "kernels_config": {
    "python": {
     "delete_cmd_postfix": "",
     "delete_cmd_prefix": "del ",
     "library": "var_list.py",
     "varRefreshCmd": "print(var_dic_list())"
    },
    "r": {
     "delete_cmd_postfix": ") ",
     "delete_cmd_prefix": "rm(",
     "library": "var_list.r",
     "varRefreshCmd": "cat(var_dic_list()) "
    }
   },
   "types_to_exclude": [
    "module",
    "function",
    "builtin_function_or_method",
    "instance",
    "_Feature"
   ],
   "window_display": false
  }
 },
 "nbformat": 4,
 "nbformat_minor": 2
}
